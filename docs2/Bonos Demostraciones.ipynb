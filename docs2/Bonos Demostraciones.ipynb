{
 "cells": [
  {
   "cell_type": "markdown",
   "metadata": {},
   "source": [
    "# Demostraciones Matemáticas - Jason Barrios\n",
    "\n",
    "## 2.2 Suavización exponencial\n",
    "La estimación de la media por mínimos cuadrados (verifíquelo):\n",
    "\n",
    "$$SS_E = \\sum_{t=1}^T(y_t-\\mu)^2$$\n",
    "\n",
    "$$\\frac{\\partial SS_E}{\\partial \\mu} = \\frac{\\partial}{\\partial \\mu} \\sum_{t=1}^T(y_t-\\mu)^2$$\n",
    "\n",
    "$$ = \\sum_{t=1}^T-2(y_t-\\mu)$$\n",
    "\n",
    "$$ = \\sum_{t=1}^T-2y_t +\\sum_{t=1}^T 2\\mu$$\n",
    "\n",
    "Igualamos a cero la derivada $\\frac{\\partial SS_E}{\\partial \\mu} = 0$\n",
    "\n",
    "$$\\sum_{t=1}^T-2y_t + \\sum_{t=1}^T 2\\mu = 0$$\n",
    "\n",
    "$$\\sum_{t=1}^T 2\\mu = \\sum_{t=1}^T 2y_t$$\n",
    "\n",
    "Respecto a $t \\mu$ es una constante por lo cual la sumatoria de las medias en el tiempo de la medias es $T=\\mu$ por lo que \n",
    "\n",
    "$$2T\\mu = 2 \\sum_{t=1}^T y_t$$\n",
    "\n",
    "Dividimos entre $2T$ y obtenemos el estimador de la media a partir de la suma de minimos cuadrados.\n",
    "\n",
    "$$\\hat{\\mu} = \\frac{1}{T}\\sum_{t=1}^T y_t$$\n"
   ]
  },
  {
   "cell_type": "markdown",
   "metadata": {},
   "source": []
  }
 ],
 "metadata": {
  "language_info": {
   "name": "python"
  }
 },
 "nbformat": 4,
 "nbformat_minor": 2
}
