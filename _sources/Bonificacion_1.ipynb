{
 "cells": [
  {
   "cell_type": "markdown",
   "metadata": {},
   "source": [
    "# Bonificación Práctica\n",
    "\n",
    "## Lectura de datos"
   ]
  },
  {
   "cell_type": "code",
   "execution_count": 1,
   "metadata": {},
   "outputs": [],
   "source": [
    "import pandas as pd\n",
    "from statsmodels.tsa.holtwinters import ExponentialSmoothing\n",
    "import matplotlib.pyplot as plt\n",
    "from sklearn.metrics import mean_squared_error\n",
    "import numpy as np\n",
    "\n",
    "# Ruta al archivo .csv \n",
    "ex_1 = \"C:/Users/FBA/OneDrive - Acesco/0. Personales/2. Profesional/20240416 - Maestria en Analítica de Datos/20240919 Series de Tiempo/Bonificacion_1/train/ex_1.csv\"\n",
    "ex_9 = \"C:/Users/FBA/OneDrive - Acesco/0. Personales/2. Profesional/20240416 - Maestria en Analítica de Datos/20240919 Series de Tiempo/Bonificacion_1/train/ex_9.csv\"\n",
    "ex_20 = \"C:/Users/FBA/OneDrive - Acesco/0. Personales/2. Profesional/20240416 - Maestria en Analítica de Datos/20240919 Series de Tiempo/Bonificacion_1/train/ex_20.csv\"\n",
    "ex_21 = \"C:/Users/FBA/OneDrive - Acesco/0. Personales/2. Profesional/20240416 - Maestria en Analítica de Datos/20240919 Series de Tiempo/Bonificacion_1/train/ex_21.csv\"\n",
    "ex_23 = \"C:/Users/FBA/OneDrive - Acesco/0. Personales/2. Profesional/20240416 - Maestria en Analítica de Datos/20240919 Series de Tiempo/Bonificacion_1/train/ex_23.csv\"\n",
    "ex_24 = \"C:/Users/FBA/OneDrive - Acesco/0. Personales/2. Profesional/20240416 - Maestria en Analítica de Datos/20240919 Series de Tiempo/Bonificacion_1/train/ex_24.csv\"\n",
    "ex_4 = \"C:/Users/FBA/OneDrive - Acesco/0. Personales/2. Profesional/20240416 - Maestria en Analítica de Datos/20240919 Series de Tiempo/Bonificacion_1/test/ex_4.csv\"\n",
    "ex_22 = \"C:/Users/FBA/OneDrive - Acesco/0. Personales/2. Profesional/20240416 - Maestria en Analítica de Datos/20240919 Series de Tiempo/Bonificacion_1/test/ex_22.csv\"\n",
    "\n",
    "# Lee el archivo .csv en un DataFrame\n",
    "train_1 = pd.read_csv(ex_1)\n",
    "train_2 = pd.read_csv(ex_9)\n",
    "train_3 = pd.read_csv(ex_20)\n",
    "train_4 = pd.read_csv(ex_21)\n",
    "train_5 = pd.read_csv(ex_23)\n",
    "train_6 = pd.read_csv(ex_24)\n",
    "test_1 = pd.read_csv(ex_4)\n",
    "test_2 = pd.read_csv(ex_22)\n",
    "\n",
    "# Lista de tablas de entrenamiento y prueba\n",
    "train_tables = [train_1, train_2, train_3, train_4, train_5, train_6]\n",
    "test_tables = [test_1, test_2]\n",
    "\n"
   ]
  },
  {
   "cell_type": "code",
   "execution_count": 2,
   "metadata": {},
   "outputs": [],
   "source": [
    "# Función para entrenar un modelo de suavización exponencial en una tabla de datos\n",
    "def train_exponential_smoothing(train_data):\n",
    "    # Entrena el modelo Holt-Winters Exponential Smoothing\n",
    "    model = ExponentialSmoothing(train_data['el_power'], trend='add', seasonal=\"add\", seasonal_periods=3600)\n",
    "    fit_model = model.fit()\n",
    "    return fit_model\n",
    "\n",
    "# Función para calcular RMSE\n",
    "def calculate_rmse(actual, predicted):\n",
    "    return np.sqrt(mean_squared_error(actual, predicted))\n",
    "\n"
   ]
  },
  {
   "cell_type": "code",
   "execution_count": 3,
   "metadata": {},
   "outputs": [],
   "source": [
    "# Entrenamiento en todas las tablas\n",
    "models = []\n",
    "for i, train_table in enumerate(train_tables):\n",
    "    print(f\"Entrenando modelo para tabla {i+1}\")\n",
    "    model = train_exponential_smoothing(train_table)\n",
    "    models.append(model)\n",
    "\n",
    "    # Predecir en los mismos datos de entrenamiento para evaluar el rendimiento\n",
    "    train_pred = model.fittedvalues\n",
    "    train_rmse = calculate_rmse(train_table['el_power'], train_pred)\n",
    "    print(f\"RMSE en entrenamiento para el modelo {i+1}: {train_rmse:.4f}\")\n",
    "\n",
    "    # Graficar el resultado\n",
    "    plt.figure(figsize=(10, 6))\n",
    "    plt.plot(train_table['time'], train_table['el_power'], label='Train Data', color='blue')\n",
    "    plt.plot(train_table['time'], train_pred, label='Fitted Model', color='orange', linestyle='--')\n",
    "    plt.title(f'Modelo {i+1} - Datos de Entrenamiento y Modelo Ajustado')\n",
    "    plt.xlabel('Time')\n",
    "    plt.ylabel('Electric Power')\n",
    "    plt.legend()\n",
    "    plt.show()\n"
   ]
  },
  {
   "cell_type": "code",
   "execution_count": null,
   "metadata": {},
   "outputs": [],
   "source": [
    "\n",
    "# Predicciones en tablas de prueba\n",
    "for i, (model, test_table) in enumerate(zip(models, test_tables)):\n",
    "    print(f\"Prediciendo para tabla de prueba {i+1}\")\n",
    "    prediction = model.forecast(steps=len(test_table))\n",
    "    \n",
    "    # Graficar el resultado\n",
    "    plt.figure(figsize=(10, 6))\n",
    "    plt.plot(train_tables[i]['time'], train_tables[i]['el_power'], label='Train Data', color='blue')\n",
    "    plt.plot(test_table['time'], test_table['el_power'], label='Actual Test Data', linestyle='--', color='green')\n",
    "    plt.plot(test_table['time'], prediction, label='Predicted', linestyle='-.', color='red')\n",
    "    plt.title(f'Modelo {i+1} - Predicción vs Real')\n",
    "    plt.xlabel('Time')\n",
    "    plt.ylabel('Electric Power')\n",
    "    plt.legend()\n",
    "    plt.show()\n",
    "\n",
    "    # Calcular RMSE para la tabla de prueba\n",
    "    test_rmse = calculate_rmse(test_table['el_power'], prediction)\n",
    "    print(f\"RMSE para el modelo {i+1} en prueba: {test_rmse:.4f}\")"
   ]
  }
 ],
 "metadata": {
  "kernelspec": {
   "display_name": "ml_venv",
   "language": "python",
   "name": "python3"
  },
  "language_info": {
   "codemirror_mode": {
    "name": "ipython",
    "version": 3
   },
   "file_extension": ".py",
   "mimetype": "text/x-python",
   "name": "python",
   "nbconvert_exporter": "python",
   "pygments_lexer": "ipython3",
   "version": "3.9.19"
  }
 },
 "nbformat": 4,
 "nbformat_minor": 2
}
